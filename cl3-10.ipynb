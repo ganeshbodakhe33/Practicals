{
  "nbformat": 4,
  "nbformat_minor": 0,
  "metadata": {
    "colab": {
      "provenance": []
    },
    "kernelspec": {
      "name": "python3",
      "display_name": "Python 3"
    },
    "language_info": {
      "name": "python"
    }
  },
  "cells": [
    {
      "cell_type": "markdown",
      "source": [
        "## **Map Reduce**\n"
      ],
      "metadata": {
        "id": "Or_RbikEVq5U"
      }
    },
    {
      "cell_type": "code",
      "execution_count": 4,
      "metadata": {
        "id": "tsgUZrvUST3w"
      },
      "outputs": [],
      "source": [
        "from collections import defaultdict\n",
        "import csv\n",
        "import multiprocessing\n",
        "\n",
        "def map_function(record):\n",
        "    try:\n",
        "        fields = record.strip().split(',')\n",
        "        return (fields[0], float(fields[3]) / 10.0)  # (year, temperature in Celsius)\n",
        "    except (IndexError, ValueError):\n",
        "        return None\n",
        "\n",
        "def reduce_function(year_temps):\n",
        "    year, temperatures = year_temps\n",
        "    if not temperatures:\n",
        "        return (year, None, None, None)\n",
        "    return (year, min(temperatures), max(temperatures), sum(temperatures) / len(temperatures))\n",
        "\n"
      ]
    },
    {
      "cell_type": "code",
      "source": [
        "def main():\n",
        "    # Read data from CSV file\n",
        "    data = []\n",
        "    with open('temperature_data.csv', 'r') as file:\n",
        "        csv_reader = csv.reader(file)\n",
        "        next(csv_reader)  # Skip header row\n",
        "        data = [','.join(row) for row in csv_reader]\n",
        "\n",
        "    # Map phase\n",
        "    with multiprocessing.Pool() as pool:\n",
        "        mapped_data = [item for item in pool.map(map_function, data) if item]\n",
        "\n",
        "    # Shuffle and sort phase\n",
        "    grouped_data = defaultdict(list)\n",
        "    for year, temp in mapped_data:\n",
        "        grouped_data[year].append(temp)\n",
        "\n",
        "    # Reduce phase and find coolest/hottest years\n",
        "    results = [reduce_function((year, temps)) for year, temps in grouped_data.items()]\n",
        "    coolest_year = min(results, key=lambda x: x[2] if x[2] is not None else float('inf'))\n",
        "    hottest_year = max(results, key=lambda x: x[3] if x[3] is not None else float('-inf'))\n",
        "\n",
        "    print(f\"Coolest Year: {coolest_year[0]}, Min Temp: {coolest_year[2]}°C\")\n",
        "    print(f\"Hottest Year: {hottest_year[0]}, Avg Temp: {hottest_year[3]}°C\")\n",
        "\n",
        "if __name__ == \"__main__\":\n",
        "    main()\n"
      ],
      "metadata": {
        "colab": {
          "base_uri": "https://localhost:8080/"
        },
        "id": "lGVdi-QJVfiv",
        "outputId": "80ec95b3-4add-4173-85e8-a16137f3a4f0"
      },
      "execution_count": 5,
      "outputs": [
        {
          "output_type": "stream",
          "name": "stdout",
          "text": [
            "Coolest Year: 1902, Min Temp: 23.3°C\n",
            "Hottest Year: 2023, Avg Temp: 26.320000000000004°C\n"
          ]
        }
      ]
    }
  ]
}