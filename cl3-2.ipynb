{
  "cells": [
    {
      "cell_type": "markdown",
      "id": "2c4f69cb",
      "metadata": {
        "id": "2c4f69cb"
      },
      "source": [
        "# Problem Statement - Implement Union, Intersection, Complement and Difference operations on fuzzy sets. Also create fuzzy relations by Cartesian product of any two fuzzy sets and perform max-min composition on any two fuzzy relations."
      ]
    },
    {
      "cell_type": "code",
      "execution_count": 5,
      "id": "9ad1a507",
      "metadata": {
        "id": "9ad1a507"
      },
      "outputs": [],
      "source": [
        "import numpy as np"
      ]
    },
    {
      "cell_type": "code",
      "source": [
        "# Elements: a, b, c, d\n",
        "A = np.array([0.2, 0.7, 0.5, 0.0])\n",
        "B = np.array([0.6, 0.4, 0.0, 0.8])"
      ],
      "metadata": {
        "id": "EZpkNMU73tZv"
      },
      "id": "EZpkNMU73tZv",
      "execution_count": 8,
      "outputs": []
    },
    {
      "cell_type": "code",
      "execution_count": 3,
      "id": "f0ce1ce2",
      "metadata": {
        "id": "f0ce1ce2",
        "colab": {
          "base_uri": "https://localhost:8080/"
        },
        "outputId": "35bc5aea-5749-46e6-aab4-31f9ba14aaeb"
      },
      "outputs": [
        {
          "output_type": "stream",
          "name": "stdout",
          "text": [
            "Union: [0.6 0.7 0.5 0.8]\n"
          ]
        }
      ],
      "source": [
        "def fuzzy_union(A, B):\n",
        "    return np.maximum(A, B)\n",
        "print(\"Union:\", fuzzy_union(A, B))\n"
      ]
    },
    {
      "cell_type": "code",
      "execution_count": 4,
      "id": "125b9586",
      "metadata": {
        "id": "125b9586",
        "colab": {
          "base_uri": "https://localhost:8080/"
        },
        "outputId": "bf34c9ab-35e0-4688-ee0b-835c0dce367c"
      },
      "outputs": [
        {
          "output_type": "stream",
          "name": "stdout",
          "text": [
            "Intersection: [0.2 0.4 0.  0. ]\n"
          ]
        }
      ],
      "source": [
        "#For each element, picks the minimum value.\n",
        "\n",
        "def fuzzy_intersection(A, B):\n",
        "    return np.minimum(A, B)\n",
        "print(\"Intersection:\", fuzzy_intersection(A, B))\n",
        "\n",
        "\n"
      ]
    },
    {
      "cell_type": "code",
      "execution_count": 6,
      "id": "a8d390dd",
      "metadata": {
        "id": "a8d390dd",
        "colab": {
          "base_uri": "https://localhost:8080/"
        },
        "outputId": "a525a864-d739-446f-fbe0-7c06ba444e7e"
      },
      "outputs": [
        {
          "output_type": "stream",
          "name": "stdout",
          "text": [
            "Complement of A: [0.8 0.3 0.5 1. ]\n"
          ]
        }
      ],
      "source": [
        "#For each element, take the minimum of A(x) and 1 - B(x).\n",
        "##Think: \"What part of A remains if we remove B?\"\n",
        "def fuzzy_complement(A):\n",
        "    return 1 - A\n",
        "print(\"Complement of A:\", fuzzy_complement(A))\n"
      ]
    },
    {
      "cell_type": "code",
      "execution_count": 9,
      "id": "16287e17",
      "metadata": {
        "id": "16287e17",
        "colab": {
          "base_uri": "https://localhost:8080/"
        },
        "outputId": "216ca0c4-c943-442a-b882-1b0a732e7a38"
      },
      "outputs": [
        {
          "output_type": "stream",
          "name": "stdout",
          "text": [
            "Difference (A - B): [0.2 0.6 0.5 0. ]\n"
          ]
        }
      ],
      "source": [
        "def fuzzy_difference(A, B):\n",
        "    return np.minimum(A, 1 - B)\n",
        "print(\"Difference (A - B):\", fuzzy_difference(A, B))"
      ]
    },
    {
      "cell_type": "code",
      "execution_count": 10,
      "id": "f19fe23e",
      "metadata": {
        "id": "f19fe23e",
        "colab": {
          "base_uri": "https://localhost:8080/"
        },
        "outputId": "a9f3c842-ab45-4982-953d-4716dbd4a739"
      },
      "outputs": [
        {
          "output_type": "stream",
          "name": "stdout",
          "text": [
            "Relation R:\n",
            " [[0.2 0.2 0.  0.2]\n",
            " [0.6 0.4 0.  0.7]\n",
            " [0.5 0.4 0.  0.5]\n",
            " [0.  0.  0.  0. ]]\n",
            "Relation S:\n",
            " [[0.2 0.6 0.5 0. ]\n",
            " [0.2 0.4 0.4 0. ]\n",
            " [0.  0.  0.  0. ]\n",
            " [0.2 0.7 0.5 0. ]]\n"
          ]
        }
      ],
      "source": [
        "##Outer product of A and B.\n",
        "#Forms a matrix/grid: every element of A multiplies every element of B.\n",
        "\n",
        "\n",
        "def cartesian_product(A, B):\n",
        "    return np.minimum.outer(A, B)\n",
        "\n",
        "R = cartesian_product(A, B)\n",
        "S = cartesian_product(B, A)\n",
        "\n",
        "print(\"Relation R:\\n\", R)\n",
        "print(\"Relation S:\\n\", S)\n"
      ]
    },
    {
      "cell_type": "code",
      "source": [
        "def max_min_composition(R, S):\n",
        "    T = []\n",
        "    for row in R:\n",
        "        new_row = []\n",
        "        for col in S.T:\n",
        "            new_row.append(np.max(np.minimum(row, col)))\n",
        "        T.append(new_row)\n",
        "    return np.array(T)\n",
        "\n",
        "T = max_min_composition(R, S)\n",
        "print(\"Max-Min Composition:\\n\", T)"
      ],
      "metadata": {
        "colab": {
          "base_uri": "https://localhost:8080/"
        },
        "id": "Zfj6ycYS2Rgq",
        "outputId": "83300c2f-7d5a-4d76-a3fd-c13ce050d205"
      },
      "id": "Zfj6ycYS2Rgq",
      "execution_count": 11,
      "outputs": [
        {
          "output_type": "stream",
          "name": "stdout",
          "text": [
            "Max-Min Composition:\n",
            " [[0.2 0.2 0.2 0. ]\n",
            " [0.2 0.7 0.5 0. ]\n",
            " [0.2 0.5 0.5 0. ]\n",
            " [0.  0.  0.  0. ]]\n"
          ]
        }
      ]
    }
  ],
  "metadata": {
    "kernelspec": {
      "display_name": "Python 3 (ipykernel)",
      "language": "python",
      "name": "python3"
    },
    "language_info": {
      "codemirror_mode": {
        "name": "ipython",
        "version": 3
      },
      "file_extension": ".py",
      "mimetype": "text/x-python",
      "name": "python",
      "nbconvert_exporter": "python",
      "pygments_lexer": "ipython3",
      "version": "3.8.5"
    },
    "colab": {
      "provenance": []
    }
  },
  "nbformat": 4,
  "nbformat_minor": 5
}