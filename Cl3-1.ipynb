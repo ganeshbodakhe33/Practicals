{
  "nbformat": 4,
  "nbformat_minor": 0,
  "metadata": {
    "colab": {
      "provenance": []
    },
    "kernelspec": {
      "name": "python3",
      "display_name": "Python 3"
    },
    "language_info": {
      "name": "python"
    }
  },
  "cells": [
    {
      "cell_type": "code",
      "execution_count": 1,
      "metadata": {
        "id": "_lHjsn2eFJtR"
      },
      "outputs": [],
      "source": [
        "# pip install pypi xmlrpc\n",
        "# pip install msilib (if error occurs in xmlrpc installation)\n",
        "\n"
      ]
    },
    {
      "cell_type": "code",
      "source": [
        "#client.py\n",
        "import xmlrpc.client\n",
        "\n",
        "# Create an XML-RPC client\n",
        "with xmlrpc.client.ServerProxy(\"http://localhost:8000/RPC2\") as proxy:\n",
        "    try:\n",
        "        input_value = int(input(\"Enter the number : \"))\n",
        "        result = proxy.calculate_factorial(input_value)\n",
        "        print(\"Factorial is : \", result)\n",
        "    except Exception as e:\n",
        "        print(\"Error: \", e)"
      ],
      "metadata": {
        "id": "tbVMbWKEFNKE"
      },
      "execution_count": null,
      "outputs": []
    },
    {
      "cell_type": "code",
      "source": [
        "#server.py\n",
        "from xmlrpc.server import SimpleXMLRPCServer\n",
        "from xmlrpc.server import SimpleXMLRPCRequestHandler\n",
        "\n",
        "class FactorialServer:\n",
        "    def calculate_factorial(self, n):\n",
        "        if n < 0:\n",
        "            raise ValueError(\"Input must be a non-negative integer.\")\n",
        "        result = 1\n",
        "        for i in range(1, n + 1):\n",
        "            result *= i\n",
        "            res = str(result)\n",
        "        return res\n",
        "\n",
        "# Restrict to a particular path.\n",
        "class RequestHandler(SimpleXMLRPCRequestHandler):\n",
        "    rpc_paths = ('/RPC2',)\n",
        "\n",
        "# Create server\n",
        "with SimpleXMLRPCServer(('localhost', 8000), requestHandler = RequestHandler) as server:\n",
        "    server.register_introspection_functions()\n",
        "    # Register the FactorialServer class\n",
        "    server.register_instance(FactorialServer())\n",
        "    print(\"FactorialServer is ready to accept requests.\")\n",
        "    # Run the server's main loop\n",
        "    server.serve_forever()"
      ],
      "metadata": {
        "colab": {
          "base_uri": "https://localhost:8080/"
        },
        "id": "EzifnC8zFSbI",
        "outputId": "450048ef-1fb3-4b48-ee5c-03987c920315"
      },
      "execution_count": null,
      "outputs": [
        {
          "output_type": "stream",
          "name": "stdout",
          "text": [
            "FactorialServer is ready to accept requests.\n"
          ]
        }
      ]
    }
  ]
}